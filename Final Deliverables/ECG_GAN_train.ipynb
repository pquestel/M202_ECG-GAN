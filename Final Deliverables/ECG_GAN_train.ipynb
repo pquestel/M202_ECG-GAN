{
  "cells": [
    {
      "cell_type": "code",
      "source": [
        "from google.colab import drive\n",
        "drive.mount('/content/drive')"
      ],
      "metadata": {
        "colab": {
          "base_uri": "https://localhost:8080/"
        },
        "id": "BLBwv1St1gbM",
        "outputId": "d9d6c8f4-8fef-49d4-ca8f-7445431a0e83"
      },
      "execution_count": 1,
      "outputs": [
        {
          "output_type": "stream",
          "name": "stdout",
          "text": [
            "Mounted at /content/drive\n"
          ]
        }
      ]
    },
    {
      "cell_type": "code",
      "source": [
        "\n",
        "MODELS_DIR = 'models/'\n",
        "if not os.path.exists(MODELS_DIR):\n",
        "    os.mkdir(MODELS_DIR)\n",
        "MODEL_TF = MODELS_DIR + 'model'\n",
        "MODEL_NO_QUANT_TFLITE = MODELS_DIR + 'model_no_quant.tflite'\n",
        "MODEL_TFLITE = MODELS_DIR + 'model.tflite'\n",
        "MODEL_TFLITE_MICRO = MODELS_DIR + 'model.cc'"
      ],
      "metadata": {
        "id": "IC4pLsvDjjxp"
      },
      "execution_count": null,
      "outputs": []
    },
    {
      "cell_type": "code",
      "source": [
        "\n",
        "\"\"\"#MMD Evaluation Metric Definition\n",
        "Using MMD to determine the similarity between distributions\n",
        "PDIST code comes from torch-two-sample utils code: \n",
        "    https://github.com/josipd/torch-two-sample/blob/master/torch_two_sample/util.py\n",
        "\"\"\"\n",
        "\n",
        "def pdist(sample_1, sample_2, norm=2, eps=1e-5):\n",
        "    r\"\"\"Compute the matrix of all squared pairwise distances.\n",
        "    Arguments\n",
        "    ---------\n",
        "    sample_1 : torch.Tensor or Variable\n",
        "        The first sample, should be of shape ``(n_1, d)``.\n",
        "    sample_2 : torch.Tensor or Variable\n",
        "        The second sample, should be of shape ``(n_2, d)``.\n",
        "    norm : float\n",
        "        The l_p norm to be used.\n",
        "    Returns\n",
        "    -------\n",
        "    torch.Tensor or Variable\n",
        "        Matrix of shape (n_1, n_2). The [i, j]-th entry is equal to\n",
        "        ``|| sample_1[i, :] - sample_2[j, :] ||_p``.\"\"\"\n",
        "    n_1, n_2 = sample_1.size(0), sample_2.size(0)\n",
        "    norm = float(norm)\n",
        "    \n",
        "    if norm == 2.:\n",
        "        norms_1 = torch.sum(sample_1**2, dim=1, keepdim=True)\n",
        "        norms_2 = torch.sum(sample_2**2, dim=1, keepdim=True)\n",
        "        norms = (norms_1.expand(n_1, n_2) +\n",
        "                 norms_2.transpose(0, 1).expand(n_1, n_2))\n",
        "        distances_squared = norms - 2 * sample_1.mm(sample_2.t())\n",
        "        return torch.sqrt(eps + torch.abs(distances_squared))\n",
        "    else:\n",
        "        dim = sample_1.size(1)\n",
        "        expanded_1 = sample_1.unsqueeze(1).expand(n_1, n_2, dim)\n",
        "        expanded_2 = sample_2.unsqueeze(0).expand(n_1, n_2, dim)\n",
        "        differences = torch.abs(expanded_1 - expanded_2) ** norm\n",
        "        inner = torch.sum(differences, dim=2, keepdim=False)\n",
        "        return (eps + inner) ** (1. / norm)\n",
        "\n",
        "def permutation_test_mat(matrix,\n",
        "                         n_1,  n_2,  n_permutations,\n",
        "                          a00=1,  a11=1,  a01=0):\n",
        "    \"\"\"Compute the p-value of the following statistic (rejects when high)\n",
        "        \\sum_{i,j} a_{\\pi(i), \\pi(j)} matrix[i, j].\n",
        "    \"\"\"\n",
        "    n = n_1 + n_2\n",
        "    pi = np.zeros(n, dtype=np.int8)\n",
        "    pi[n_1:] = 1\n",
        "\n",
        "    larger = 0.\n",
        "    count = 0\n",
        "    \n",
        "    for sample_n in range(1 + n_permutations):\n",
        "        count = 0.\n",
        "        for i in range(n):\n",
        "            for j in range(i, n):\n",
        "                mij = matrix[i, j] + matrix[j, i]\n",
        "                if pi[i] == pi[j] == 0:\n",
        "                    count += a00 * mij\n",
        "                elif pi[i] == pi[j] == 1:\n",
        "                    count += a11 * mij\n",
        "                else:\n",
        "                    count += a01 * mij\n",
        "        if sample_n == 0:\n",
        "            statistic = count\n",
        "        elif statistic <= count:\n",
        "            larger += 1\n",
        "\n",
        "        np.random.shuffle(pi)\n",
        "\n",
        "    return larger / n_permutations\n",
        "\n",
        "\"\"\"Code from Torch-Two-Samples at https://torch-two-sample.readthedocs.io/en/latest/#\"\"\"\n",
        "\n",
        "class MMDStatistic:\n",
        "    r\"\"\"The *unbiased* MMD test of :cite:`gretton2012kernel`.\n",
        "    The kernel used is equal to:\n",
        "    .. math ::\n",
        "        k(x, x') = \\sum_{j=1}^k e^{-\\alpha_j\\|x - x'\\|^2},\n",
        "    for the :math:`\\alpha_j` proved in :py:meth:`~.MMDStatistic.__call__`.\n",
        "    Arguments\n",
        "    ---------\n",
        "    n_1: int\n",
        "        The number of points in the first sample.\n",
        "    n_2: int\n",
        "        The number of points in the second sample.\"\"\"\n",
        "\n",
        "    def __init__(self, n_1, n_2):\n",
        "        self.n_1 = n_1\n",
        "        self.n_2 = n_2\n",
        "\n",
        "        # The three constants used in the test.\n",
        "        self.a00 = 1. / (n_1 * (n_1 - 1))\n",
        "        self.a11 = 1. / (n_2 * (n_2 - 1))\n",
        "        self.a01 = - 1. / (n_1 * n_2)\n",
        "\n",
        "    def __call__(self, sample_1, sample_2, alphas, ret_matrix=False):\n",
        "        r\"\"\"Evaluate the statistic.\n",
        "        The kernel used is\n",
        "        .. math::\n",
        "            k(x, x') = \\sum_{j=1}^k e^{-\\alpha_j \\|x - x'\\|^2},\n",
        "        for the provided ``alphas``.\n",
        "        Arguments\n",
        "        ---------\n",
        "        sample_1: :class:`torch:torch.autograd.Variable`\n",
        "            The first sample, of size ``(n_1, d)``.\n",
        "        sample_2: variable of shape (n_2, d)\n",
        "            The second sample, of size ``(n_2, d)``.\n",
        "        alphas : list of :class:`float`\n",
        "            The kernel parameters.\n",
        "        ret_matrix: bool\n",
        "            If set, the call with also return a second variable.\n",
        "            This variable can be then used to compute a p-value using\n",
        "            :py:meth:`~.MMDStatistic.pval`.\n",
        "        Returns\n",
        "        -------\n",
        "        :class:`float`\n",
        "            The test statistic.\n",
        "        :class:`torch:torch.autograd.Variable`\n",
        "            Returned only if ``ret_matrix`` was set to true.\"\"\"\n",
        "        sample_12 = torch.cat((sample_1, sample_2), 0)\n",
        "        distances = pdist(sample_12, sample_12, norm=2)\n",
        "\n",
        "        kernels = None\n",
        "        for alpha in alphas:\n",
        "            kernels_a = torch.exp(- alpha * distances ** 2)\n",
        "            if kernels is None:\n",
        "                kernels = kernels_a\n",
        "            else:\n",
        "                kernels = kernels + kernels_a\n",
        "\n",
        "        k_1 = kernels[:self.n_1, :self.n_1]\n",
        "        k_2 = kernels[self.n_1:, self.n_1:]\n",
        "        k_12 = kernels[:self.n_1, self.n_1:]\n",
        "\n",
        "        mmd = (2 * self.a01 * k_12.sum() +\n",
        "               self.a00 * (k_1.sum() - torch.trace(k_1)) +\n",
        "               self.a11 * (k_2.sum() - torch.trace(k_2)))\n",
        "        if ret_matrix:\n",
        "            return mmd, kernels\n",
        "        else:\n",
        "            return mmd\n",
        "\n",
        "\n",
        "    def pval(self, distances, n_permutations=1000):\n",
        "        r\"\"\"Compute a p-value using a permutation test.\n",
        "        Arguments\n",
        "        ---------\n",
        "        matrix: :class:`torch:torch.autograd.Variable`\n",
        "            The matrix computed using :py:meth:`~.MMDStatistic.__call__`.\n",
        "        n_permutations: int\n",
        "            The number of random draws from the permutation null.\n",
        "        Returns\n",
        "        -------\n",
        "        float\n",
        "            The estimated p-value.\"\"\"\n",
        "        if isinstance(distances, Variable):\n",
        "            distances = distances.data\n",
        "        return permutation_test_mat(distances.cpu().numpy(),\n",
        "                                    self.n_1, self.n_2,\n",
        "                                    n_permutations,\n",
        "                                    a00=self.a00, a11=self.a11, a01=self.a01)\n",
        "\"\"\"\n",
        "This paper \n",
        "https://arxiv.org/pdf/1611.04488.pdf says that the most common way to \n",
        "calculate sigma is to use the median pairwise distances between the joint data.\n",
        "\"\"\"\n",
        "\n",
        "def pairwisedistances(X,Y,norm=2):\n",
        "    dist = pdist(X,Y,norm)\n",
        "    return np.median(dist.numpy())\n",
        "\n",
        "\n",
        "\n"
      ],
      "metadata": {
        "id": "ipVScnO-hIvM"
      },
      "execution_count": null,
      "outputs": []
    },
    {
      "cell_type": "code",
      "execution_count": null,
      "metadata": {
        "colab": {
          "base_uri": "https://localhost:8080/"
        },
        "id": "diSvxk9x2yhK",
        "outputId": "d2c8165f-c855-4a90-e4eb-0047e3634e1a"
      },
      "outputs": [
        {
          "output_type": "stream",
          "name": "stdout",
          "text": [
            "2.4.0\n"
          ]
        }
      ],
      "source": [
        "\n",
        "import os\n",
        "import tensorflow as tf\n",
        "from tensorflow.keras import layers, regularizers\n",
        "#from torch_two_sample.statistics_diff import MMDStatistic\n",
        "import torch\n",
        "from tensorflow import lite\n",
        "\n",
        "import matplotlib.pyplot as plt\n",
        "import numpy as np\n",
        "import random\n",
        "import scipy.io\n",
        "import pandas as pd\n",
        "\n",
        "from IPython import display\n",
        "from tqdm import tqdm\n",
        "from shutil import copyfile\n",
        "import pathlib\n",
        "import math\n",
        "\n",
        "print(tf.__version__)\n",
        "\n",
        "\n",
        "# from google.colab import drive\n",
        "# drive.mount('/drive')\n",
        "\n",
        "\n",
        "norm_value = 1 #2173\n",
        "\n",
        "\n",
        "#################################################################################\n",
        "#          Helper functions\n",
        "#################################################################################\n",
        "def test_show(generator, discriminator):\n",
        "    noise = tf.random.normal([1, 125, 50])\n",
        "    generated_ecg = generator(noise, training=False)\n",
        "    print(generated_ecg.shape)\n",
        "    plt.plot(generated_ecg[0, 0, :])\n",
        "    plt.show()\n",
        "    \n",
        "    decision = discriminator(generated_ecg, training=False)\n",
        "    print(decision)\n",
        "    \n",
        "\n",
        "def generate_and_save_ecg(model, epoch, test_input, save):\n",
        "    predictions = model(test_input, training=False)\n",
        "\n",
        "    fig = plt.figure(figsize=(4,3))\n",
        "    plt.plot(predictions[0, 0, :] * norm_value)\n",
        "    # plt.plot(predictions[0, 0, :])\n",
        "    \n",
        "    if save:\n",
        "        plt.savefig('./ecg_at_epoch_{:04d}.png'.format(epoch))\n",
        "\n",
        "    plt.show()\n",
        "    \n",
        "\n",
        "def prepare_data(dim):\n",
        "#     copyfile(f\"/drive/My Drive/Colab Notebooks/data/fix_signals_400.npy\", \"./fix_signals.npy\")\n",
        "\n",
        "    #Changes Philippe\n",
        "    mat = scipy.io.loadmat(r\"/content/drive/MyDrive/Colab Notebooks/ecgGAN/interp_data_norm.mat\")\n",
        "    \n",
        "    data = mat['interp_data'] \n",
        "    data = np.reshape(data, (data.shape[0],1,data.shape[1]))\n",
        "\n",
        "\n",
        "    #data = np.load('./data/fix_signals_400.npy')\n",
        "    #data = np.reshape(data, (data.shape[0], 1, data.shape[1]))\n",
        "    print('Data shape:', data.shape)\n",
        "\n",
        "\n",
        "    data = data #/ norm_value # Normalize\n",
        "    data = np.array(data, dtype='float32')\n",
        "    data = data[:576]\n",
        "    print(data.shape)\n",
        "    print(np.amax(data))\n",
        "    print(np.amin(data))\n",
        "\n",
        "    plt.figure(figsize=(4,3))\n",
        "    plt.plot(data[random.randint(0, data.shape[0]-1)][0])\n",
        "    plt.show()\n",
        "\n",
        "    train_size = int(data.shape[0] * 0.9)\n",
        "    test_size = data.shape[0] - train_size\n",
        "    print('test_size,')\n",
        "    print ( test_size)\n",
        "\n",
        "    # Batch and shuffle the data\n",
        "    train_dataset = tf.data.Dataset.from_tensor_slices(data[:train_size]).shuffle(train_size).batch(BATCH_SIZE)\n",
        "    test_dataset  = tf.data.Dataset.from_tensor_slices(data[train_size:]).shuffle(test_size).batch(1)\n",
        "\n",
        "    seed = tf.random.normal(dim)\n",
        "    \n",
        "    return seed, train_dataset, test_dataset"
      ]
    },
    {
      "cell_type": "code",
      "execution_count": null,
      "metadata": {
        "id": "Y-UNv4JABqTR"
      },
      "outputs": [],
      "source": [
        "#################################################################################\n",
        "#          Testing functions\n",
        "#################################################################################\n",
        "def rmse(targets, predictions):\n",
        "    return np.sqrt(np.mean((targets-predictions)**2))\n",
        "\n",
        "\n",
        "def prd(targets, predictions):\n",
        "    s1 = np.sum((targets-predictions)**2)\n",
        "    s2 = np.sum(targets**2)\n",
        "    return np.sqrt(s1 / s2 * 100)\n",
        "\n",
        "\n",
        "def mmd(targets, predictions):\n",
        "    mmd_stat = MMDStatistic(400, 400)\n",
        "    sample_target = torch.from_numpy(targets.numpy().reshape((400,1)))\n",
        "    sample_pred = torch.from_numpy(predictions.numpy().reshape((400,1)))\n",
        "    \n",
        "    stat = mmd_stat(sample_target, sample_pred, [1.])\n",
        "    return(stat.item())\n",
        "\n",
        "\n",
        "def testing(test_dataset, model, noise_dim):\n",
        "    noise = tf.random.normal(noise_dim)\n",
        "    generated_ecgs = model(noise, training=False)\n",
        "\n",
        "    mmd_sum, prd_sum, rmse_sum = [], [], []\n",
        "    for true_ecg, gen_ecg in zip(test_dataset, generated_ecgs):\n",
        "        prd_sum.append(prd(true_ecg[0][0], gen_ecg[0]))\n",
        "        rmse_sum.append(rmse(true_ecg[0][0], gen_ecg[0]))\n",
        "        mmd_sum.append(mmd(true_ecg[0][0], gen_ecg[0]))\n",
        "\n",
        "    print('mmd :', f'mean={np.mean(mmd_sum):.6f}', f'min={np.min(mmd_sum):.6f}', f'max={np.max(mmd_sum):.6f}')\n",
        "    print('prd :', f'mean={np.mean(prd_sum):.4f}', f'min={np.min(prd_sum):.4f}', f'max={np.max(prd_sum):.4f}')\n",
        "    print('rmse:', f'mean={np.mean(rmse_sum):.4f}', f'min={np.min(rmse_sum):.4f}', f'max={np.max(rmse_sum):.4f}')"
      ]
    },
    {
      "cell_type": "markdown",
      "metadata": {
        "id": "TorJM8KFcGls"
      },
      "source": [
        "# New Section"
      ]
    },
    {
      "cell_type": "code",
      "execution_count": null,
      "metadata": {
        "colab": {
          "base_uri": "https://localhost:8080/"
        },
        "id": "1Yrhlemc9GIv",
        "outputId": "da7a1763-a460-4cc6-d3ef-0e2d44d70642"
      },
      "outputs": [
        {
          "output_type": "stream",
          "name": "stdout",
          "text": [
            "Model: \"sequential\"\n",
            "_________________________________________________________________\n",
            "Layer (type)                 Output Shape              Param #   \n",
            "=================================================================\n",
            "conv1d (Conv1D)              (None, 100, 128)          2176      \n",
            "_________________________________________________________________\n",
            "leaky_re_lu (LeakyReLU)      (None, 100, 128)          0         \n",
            "_________________________________________________________________\n",
            "conv1d_1 (Conv1D)            (None, 100, 64)           131136    \n",
            "_________________________________________________________________\n",
            "leaky_re_lu_1 (LeakyReLU)    (None, 100, 64)           0         \n",
            "_________________________________________________________________\n",
            "up_sampling1d (UpSampling1D) (None, 200, 64)           0         \n",
            "_________________________________________________________________\n",
            "conv1d_2 (Conv1D)            (None, 200, 32)           32800     \n",
            "_________________________________________________________________\n",
            "leaky_re_lu_2 (LeakyReLU)    (None, 200, 32)           0         \n",
            "_________________________________________________________________\n",
            "conv1d_3 (Conv1D)            (None, 200, 16)           8208      \n",
            "_________________________________________________________________\n",
            "leaky_re_lu_3 (LeakyReLU)    (None, 200, 16)           0         \n",
            "_________________________________________________________________\n",
            "up_sampling1d_1 (UpSampling1 (None, 400, 16)           0         \n",
            "_________________________________________________________________\n",
            "conv1d_4 (Conv1D)            (None, 400, 1)            257       \n",
            "_________________________________________________________________\n",
            "permute (Permute)            (None, 1, 400)            0         \n",
            "=================================================================\n",
            "Total params: 174,577\n",
            "Trainable params: 174,577\n",
            "Non-trainable params: 0\n",
            "_________________________________________________________________\n",
            "Model: \"sequential_1\"\n",
            "_________________________________________________________________\n",
            "Layer (type)                 Output Shape              Param #   \n",
            "=================================================================\n",
            "permute_1 (Permute)          (None, 400, 1)            0         \n",
            "_________________________________________________________________\n",
            "conv1d_5 (Conv1D)            (None, 400, 32)           544       \n",
            "_________________________________________________________________\n",
            "leaky_re_lu_4 (LeakyReLU)    (None, 400, 32)           0         \n",
            "_________________________________________________________________\n",
            "conv1d_6 (Conv1D)            (None, 400, 64)           32832     \n",
            "_________________________________________________________________\n",
            "leaky_re_lu_5 (LeakyReLU)    (None, 400, 64)           0         \n",
            "_________________________________________________________________\n",
            "max_pooling1d (MaxPooling1D) (None, 200, 64)           0         \n",
            "_________________________________________________________________\n",
            "conv1d_7 (Conv1D)            (None, 200, 128)          131200    \n",
            "_________________________________________________________________\n",
            "leaky_re_lu_6 (LeakyReLU)    (None, 200, 128)          0         \n",
            "_________________________________________________________________\n",
            "conv1d_8 (Conv1D)            (None, 200, 256)          524544    \n",
            "_________________________________________________________________\n",
            "leaky_re_lu_7 (LeakyReLU)    (None, 200, 256)          0         \n",
            "_________________________________________________________________\n",
            "max_pooling1d_1 (MaxPooling1 (None, 100, 256)          0         \n",
            "_________________________________________________________________\n",
            "flatten (Flatten)            (None, 25600)             0         \n",
            "_________________________________________________________________\n",
            "dense (Dense)                (None, 1)                 25601     \n",
            "=================================================================\n",
            "Total params: 714,721\n",
            "Trainable params: 714,721\n",
            "Non-trainable params: 0\n",
            "_________________________________________________________________\n"
          ]
        }
      ],
      "source": [
        "def make_generator_model():\n",
        "    model = tf.keras.Sequential()\n",
        "    model.add(layers.Input(shape=(100, 1)))\n",
        "\n",
        "    #model.add(layers.LSTM(128, time_major=False, return_sequences=True))\n",
        "\n",
        "    model.add(layers.Conv1D(filters=64, kernel_size=16, strides=1, padding='same'))\n",
        "    model.add(layers.LeakyReLU())\n",
        "  \n",
        "    model.add(layers.Conv1D(filters=32, kernel_size=16, strides=1, padding='same'))\n",
        "    model.add(layers.LeakyReLU())\n",
        "    \n",
        "    model.add(layers.UpSampling1D(2))\n",
        "    \n",
        "    model.add(layers.Conv1D(filters=16, kernel_size=16, strides=1, padding='same'))\n",
        "    model.add(layers.LeakyReLU())\n",
        "    \n",
        "    model.add(layers.Conv1D(filters=8, kernel_size=16, strides=1, padding='same'))\n",
        "    model.add(layers.LeakyReLU())\n",
        "\n",
        "    model.add(layers.UpSampling1D(2))\n",
        "    \n",
        "    model.add(layers.Conv1D(filters=1, kernel_size=16, strides=1, padding='same', activation='tanh'))\n",
        "    \n",
        "    model.add(layers.Permute((2, 1)))\n",
        "    \n",
        "    return model\n",
        "\n",
        "\n",
        "def make_discriminator_model():\n",
        "    model = tf.keras.Sequential()\n",
        "   \n",
        "    model.add(layers.Input(shape=(1, 400)))\n",
        "    model.add(layers.Permute((2, 1)))\n",
        "    \n",
        "    model.add(layers.Conv1D(filters=32, kernel_size=16, strides=1, padding='same'))\n",
        "    model.add(layers.LeakyReLU())\n",
        "\n",
        "    # model.add(layers.Dropout(0.4))\n",
        "\n",
        "    model.add(layers.Conv1D(filters=64, kernel_size=16, strides=1, padding='same'))\n",
        "    model.add(layers.LeakyReLU())\n",
        "\n",
        "    model.add(layers.MaxPool1D(pool_size=2))\n",
        "\n",
        "    model.add(layers.Conv1D(filters=128, kernel_size=16, strides=1, padding='same'))\n",
        "    model.add(layers.LeakyReLU())\n",
        "\n",
        "    # model.add(layers.Dropout(0.4))\n",
        "\n",
        "    model.add(layers.Conv1D(filters=256, kernel_size=16, strides=1, padding='same'))\n",
        "    model.add(layers.LeakyReLU())\n",
        "\n",
        "    model.add(layers.MaxPool1D(pool_size=2))\n",
        "\n",
        "    model.add(layers.Flatten())\n",
        "    model.add(layers.Dense(1))\n",
        "\n",
        "    return model\n",
        "\n",
        "generator     = make_generator_model()\n",
        "discriminator = make_discriminator_model()\n",
        "    \n",
        "generator.summary()\n",
        "discriminator.summary()\n",
        "\n",
        "# test_show(generator, discriminator)"
      ]
    },
    {
      "cell_type": "code",
      "execution_count": null,
      "metadata": {
        "id": "ULoCBqer9V_H"
      },
      "outputs": [],
      "source": [
        "#################################################################################\n",
        "#          Prepare metrics for logging\n",
        "#################################################################################\n",
        "\n",
        "# !rm -rf ./logs/\n",
        "\n",
        "### discriminator loss ###\n",
        "disc_log_dir = 'logs/gradient_tape/disc_loss'\n",
        "disc_summary_writer = tf.summary.create_file_writer(disc_log_dir)\n",
        "disc_losses = tf.keras.metrics.Mean('disc_loss', dtype=tf.float32)\n",
        "disc_losses_list = []\n",
        "\n",
        "### discriminator accuracy ###\n",
        "fake_disc_accuracy = tf.keras.metrics.BinaryAccuracy('fake_disc_accuracy')\n",
        "real_disc_accuracy = tf.keras.metrics.BinaryAccuracy('real_disc_accuracy')\n",
        "fake_disc_accuracy_list, real_disc_accuracy_list = [], []\n",
        "\n",
        "### generator loss ###\n",
        "gen_log_dir = 'logs/gradient_tape/gen_loss'\n",
        "gen_summary_writer = tf.summary.create_file_writer(gen_log_dir)\n",
        "gen_losses = tf.keras.metrics.Mean('gen_loss', dtype=tf.float32)\n",
        "gen_losses_list = []\n",
        "\n",
        "\n",
        "#################################################################################\n",
        "#          Prepare loss functions and optimizers\n",
        "#################################################################################\n",
        "\n",
        "# This method returns a helper function to compute cross entropy loss\n",
        "cross_entropy = tf.keras.losses.BinaryCrossentropy(from_logits=True)\n",
        "\n",
        "def discriminator_loss(real_output, fake_output):\n",
        "    real_loss = cross_entropy(tf.ones_like(real_output), real_output)\n",
        "    fake_loss = cross_entropy(tf.zeros_like(fake_output), fake_output)\n",
        "    total_loss = real_loss + fake_loss\n",
        "    return total_loss\n",
        "\n",
        "def generator_loss(fake_output):\n",
        "    return cross_entropy(tf.ones_like(fake_output), fake_output)\n",
        "\n",
        "generator_optimizer = tf.keras.optimizers.Adam(0.0002)\n",
        "discriminator_optimizer = tf.keras.optimizers.Adam(0.0002)\n"
      ]
    },
    {
      "cell_type": "code",
      "execution_count": null,
      "metadata": {
        "id": "7u2iNppZ9sku"
      },
      "outputs": [],
      "source": [
        "disc_steps = 5\n",
        "\n",
        "# Notice the use of `tf.function`\n",
        "# This annotation causes the function to be \"compiled\".\n",
        "\n",
        "@tf.function\n",
        "def train_step(real_ecg, dim):\n",
        "    noise = tf.random.normal(dim)\n",
        "\n",
        "    for i in range(disc_steps):\n",
        "        with tf.GradientTape() as disc_tape:\n",
        "            generated_ecg = generator(noise, training=True)\n",
        "\n",
        "            real_output = discriminator(real_ecg, training=True)\n",
        "            fake_output = discriminator(generated_ecg, training=True)\n",
        "            disc_loss = discriminator_loss(real_output, fake_output)\n",
        "        \n",
        "\n",
        "\n",
        "        gradients_of_discriminator = disc_tape.gradient(disc_loss, discriminator.trainable_variables)\n",
        "        discriminator_optimizer.apply_gradients(zip(gradients_of_discriminator, discriminator.trainable_variables))\n",
        "        \n",
        "        ### for tensorboard ###\n",
        "        disc_losses.update_state(disc_loss)\n",
        "        fake_disc_accuracy.update_state(tf.zeros_like(fake_output), fake_output)\n",
        "        real_disc_accuracy.update_state(tf.ones_like(real_output), real_output)\n",
        "        #######################\n",
        "    \n",
        "    with tf.GradientTape() as gen_tape:\n",
        "        generated_ecg = generator(noise, training=True)\n",
        "        fake_output = discriminator(generated_ecg, training=True)\n",
        "\n",
        "        gen_loss = generator_loss(fake_output)\n",
        "    \n",
        "    gradients_of_generator = gen_tape.gradient(gen_loss, generator.trainable_variables)\n",
        "    generator_optimizer.apply_gradients(zip(gradients_of_generator, generator.trainable_variables))\n",
        "\n",
        "    ### for tensorboard ###\n",
        "    gen_losses.update_state(gen_loss)\n",
        "    #######################\n",
        "    \n",
        "\n",
        "def train(dataset, epochs, dim):\n",
        "    for epoch in tqdm(range(epochs)):\n",
        "    \n",
        "        for batch in dataset:\n",
        "            train_step(batch, dim)            \n",
        "        disc_losses_list.append(disc_losses.result().numpy())\n",
        "        gen_losses_list.append(gen_losses.result().numpy())\n",
        "        \n",
        "        fake_disc_accuracy_list.append(fake_disc_accuracy.result().numpy())\n",
        "        real_disc_accuracy_list.append(real_disc_accuracy.result().numpy())\n",
        "        \n",
        "        ## for tensorboard ###\n",
        "        with disc_summary_writer.as_default():\n",
        "            tf.summary.scalar('loss', disc_losses.result(), step=epoch)\n",
        "            tf.summary.scalar('fake_accuracy', fake_disc_accuracy.result(), step=epoch)\n",
        "            tf.summary.scalar('real_accuracy', real_disc_accuracy.result(), step=epoch)\n",
        "            \n",
        "        with gen_summary_writer.as_default():\n",
        "            tf.summary.scalar('loss', gen_losses.result(), step=epoch)\n",
        "            \n",
        "        disc_losses.reset_states()        \n",
        "        gen_losses.reset_states()\n",
        "        \n",
        "        fake_disc_accuracy.reset_states()\n",
        "        real_disc_accuracy.reset_states()\n",
        "        #######################\n",
        "        generate_and_save_ecg(generator, epochs, seed, False)\n",
        "        generate_and_save_ecg(generator, epochs, seed, False)\n",
        "        generate_and_save_ecg(generator, epochs, seed, False)\n",
        "        # Save the model every 5 epochs\n",
        "#         if (epoch + 1) % 5 == 0:\n",
        "#             generate_and_save_ecg(generator, epochs, seed, False)\n",
        "#             checkpoint.save(file_prefix = checkpoint_prefix)\n",
        "\n",
        "    # Generate after the final epoch\n",
        "    #display.clear_output(wait=True)\n",
        "    generate_and_save_ecg(generator, epochs, seed, False)\n",
        "    testing(test_dataset, generator, [57, 100, 1])\n",
        "    \n",
        "#     generator.save('/content/drive/My Drive/Colab Notebooks/saved_models/generator_1500.h5')\n",
        "#     discriminator.save('/content/drive/My Drive/Colab Notebooks/saved_models/discriminator_1500.h5')"
      ]
    },
    {
      "cell_type": "code",
      "execution_count": null,
      "metadata": {
        "colab": {
          "base_uri": "https://localhost:8080/",
          "height": 321
        },
        "id": "w3o7ZlWOK1Hg",
        "outputId": "77790593-4dca-48a9-991d-8172aa39c0ea"
      },
      "outputs": [
        {
          "output_type": "stream",
          "name": "stdout",
          "text": [
            "Data shape: (565, 1, 400)\n",
            "(565, 1, 400)\n",
            "1.0\n",
            "0.0\n"
          ]
        },
        {
          "output_type": "display_data",
          "data": {
            "text/plain": [
              "<Figure size 288x216 with 1 Axes>"
            ],
            "image/png": "[encoded data removed]"
          },
          "metadata": {
            "needs_background": "light"
          }
        },
        {
          "output_type": "stream",
          "name": "stdout",
          "text": [
            "test_size,\n",
            "57\n"
          ]
        }
      ],
      "source": [
        "BATCH_SIZE = 64\n",
        "noise_dim = [BATCH_SIZE, 100, 1]\n",
        "\n",
        "seed, train_dataset, test_dataset = prepare_data(noise_dim)\n"
      ]
    },
    {
      "cell_type": "markdown",
      "source": [
        "# New Section"
      ],
      "metadata": {
        "id": "ubIM_7zrSYah"
      }
    },
    {
      "cell_type": "code",
      "execution_count": null,
      "metadata": {
        "id": "Yx8xSU1v929d",
        "colab": {
          "base_uri": "https://localhost:8080/",
          "height": 360
        },
        "outputId": "bd6d379b-af13-4ed3-edef-7c2f46e55bb7"
      },
      "outputs": [
        {
          "output_type": "stream",
          "name": "stderr",
          "text": [
            "  0%|          | 0/100 [00:47<?, ?it/s]\n"
          ]
        },
        {
          "output_type": "error",
          "ename": "KeyboardInterrupt",
          "evalue": "ignored",
          "traceback": [
            "\u001b[0;31m---------------------------------------------------------------------------\u001b[0m",
            "\u001b[0;31mKeyboardInterrupt\u001b[0m                         Traceback (most recent call last)",
            "\u001b[0;32m<ipython-input-11-07688e7c6562>\u001b[0m in \u001b[0;36m<module>\u001b[0;34m\u001b[0m\n\u001b[0;32m----> 1\u001b[0;31m \u001b[0mtrain\u001b[0m\u001b[0;34m(\u001b[0m\u001b[0mtrain_dataset\u001b[0m\u001b[0;34m,\u001b[0m \u001b[0;36m100\u001b[0m\u001b[0;34m,\u001b[0m \u001b[0mnoise_dim\u001b[0m\u001b[0;34m)\u001b[0m\u001b[0;34m\u001b[0m\u001b[0;34m\u001b[0m\u001b[0m\n\u001b[0m",
            "\u001b[0;32m<ipython-input-9-4a22f98d0f10>\u001b[0m in \u001b[0;36mtrain\u001b[0;34m(dataset, epochs, dim)\u001b[0m\n\u001b[1;32m     45\u001b[0m \u001b[0;34m\u001b[0m\u001b[0m\n\u001b[1;32m     46\u001b[0m         \u001b[0;32mfor\u001b[0m \u001b[0mbatch\u001b[0m \u001b[0;32min\u001b[0m \u001b[0mdataset\u001b[0m\u001b[0;34m:\u001b[0m\u001b[0;34m\u001b[0m\u001b[0;34m\u001b[0m\u001b[0m\n\u001b[0;32m---> 47\u001b[0;31m             \u001b[0mtrain_step\u001b[0m\u001b[0;34m(\u001b[0m\u001b[0mbatch\u001b[0m\u001b[0;34m,\u001b[0m \u001b[0mdim\u001b[0m\u001b[0;34m)\u001b[0m\u001b[0;34m\u001b[0m\u001b[0;34m\u001b[0m\u001b[0m\n\u001b[0m\u001b[1;32m     48\u001b[0m         \u001b[0mdisc_losses_list\u001b[0m\u001b[0;34m.\u001b[0m\u001b[0mappend\u001b[0m\u001b[0;34m(\u001b[0m\u001b[0mdisc_losses\u001b[0m\u001b[0;34m.\u001b[0m\u001b[0mresult\u001b[0m\u001b[0;34m(\u001b[0m\u001b[0;34m)\u001b[0m\u001b[0;34m.\u001b[0m\u001b[0mnumpy\u001b[0m\u001b[0;34m(\u001b[0m\u001b[0;34m)\u001b[0m\u001b[0;34m)\u001b[0m\u001b[0;34m\u001b[0m\u001b[0;34m\u001b[0m\u001b[0m\n\u001b[1;32m     49\u001b[0m         \u001b[0mgen_losses_list\u001b[0m\u001b[0;34m.\u001b[0m\u001b[0mappend\u001b[0m\u001b[0;34m(\u001b[0m\u001b[0mgen_losses\u001b[0m\u001b[0;34m.\u001b[0m\u001b[0mresult\u001b[0m\u001b[0;34m(\u001b[0m\u001b[0;34m)\u001b[0m\u001b[0;34m.\u001b[0m\u001b[0mnumpy\u001b[0m\u001b[0;34m(\u001b[0m\u001b[0;34m)\u001b[0m\u001b[0;34m)\u001b[0m\u001b[0;34m\u001b[0m\u001b[0;34m\u001b[0m\u001b[0m\n",
            "\u001b[0;32m/usr/local/lib/python3.8/dist-packages/tensorflow/python/eager/def_function.py\u001b[0m in \u001b[0;36m__call__\u001b[0;34m(self, *args, **kwds)\u001b[0m\n\u001b[1;32m    826\u001b[0m     \u001b[0mtracing_count\u001b[0m \u001b[0;34m=\u001b[0m \u001b[0mself\u001b[0m\u001b[0;34m.\u001b[0m\u001b[0mexperimental_get_tracing_count\u001b[0m\u001b[0;34m(\u001b[0m\u001b[0;34m)\u001b[0m\u001b[0;34m\u001b[0m\u001b[0;34m\u001b[0m\u001b[0m\n\u001b[1;32m    827\u001b[0m     \u001b[0;32mwith\u001b[0m \u001b[0mtrace\u001b[0m\u001b[0;34m.\u001b[0m\u001b[0mTrace\u001b[0m\u001b[0;34m(\u001b[0m\u001b[0mself\u001b[0m\u001b[0;34m.\u001b[0m\u001b[0m_name\u001b[0m\u001b[0;34m)\u001b[0m \u001b[0;32mas\u001b[0m \u001b[0mtm\u001b[0m\u001b[0;34m:\u001b[0m\u001b[0;34m\u001b[0m\u001b[0;34m\u001b[0m\u001b[0m\n\u001b[0;32m--> 828\u001b[0;31m       \u001b[0mresult\u001b[0m \u001b[0;34m=\u001b[0m \u001b[0mself\u001b[0m\u001b[0;34m.\u001b[0m\u001b[0m_call\u001b[0m\u001b[0;34m(\u001b[0m\u001b[0;34m*\u001b[0m\u001b[0margs\u001b[0m\u001b[0;34m,\u001b[0m \u001b[0;34m**\u001b[0m\u001b[0mkwds\u001b[0m\u001b[0;34m)\u001b[0m\u001b[0;34m\u001b[0m\u001b[0;34m\u001b[0m\u001b[0m\n\u001b[0m\u001b[1;32m    829\u001b[0m       \u001b[0mcompiler\u001b[0m \u001b[0;34m=\u001b[0m \u001b[0;34m\"xla\"\u001b[0m \u001b[0;32mif\u001b[0m \u001b[0mself\u001b[0m\u001b[0;34m.\u001b[0m\u001b[0m_experimental_compile\u001b[0m \u001b[0;32melse\u001b[0m \u001b[0;34m\"nonXla\"\u001b[0m\u001b[0;34m\u001b[0m\u001b[0;34m\u001b[0m\u001b[0m\n\u001b[1;32m    830\u001b[0m       \u001b[0mnew_tracing_count\u001b[0m \u001b[0;34m=\u001b[0m \u001b[0mself\u001b[0m\u001b[0;34m.\u001b[0m\u001b[0mexperimental_get_tracing_count\u001b[0m\u001b[0;34m(\u001b[0m\u001b[0;34m)\u001b[0m\u001b[0;34m\u001b[0m\u001b[0;34m\u001b[0m\u001b[0m\n",
            "\u001b[0;32m/usr/local/lib/python3.8/dist-packages/tensorflow/python/eager/def_function.py\u001b[0m in \u001b[0;36m_call\u001b[0;34m(self, *args, **kwds)\u001b[0m\n\u001b[1;32m    853\u001b[0m       \u001b[0;31m# In this case we have created variables on the first call, so we run the\u001b[0m\u001b[0;34m\u001b[0m\u001b[0;34m\u001b[0m\u001b[0;34m\u001b[0m\u001b[0m\n\u001b[1;32m    854\u001b[0m       \u001b[0;31m# defunned version which is guaranteed to never create variables.\u001b[0m\u001b[0;34m\u001b[0m\u001b[0;34m\u001b[0m\u001b[0;34m\u001b[0m\u001b[0m\n\u001b[0;32m--> 855\u001b[0;31m       \u001b[0;32mreturn\u001b[0m \u001b[0mself\u001b[0m\u001b[0;34m.\u001b[0m\u001b[0m_stateless_fn\u001b[0m\u001b[0;34m(\u001b[0m\u001b[0;34m*\u001b[0m\u001b[0margs\u001b[0m\u001b[0;34m,\u001b[0m \u001b[0;34m**\u001b[0m\u001b[0mkwds\u001b[0m\u001b[0;34m)\u001b[0m  \u001b[0;31m# pylint: disable=not-callable\u001b[0m\u001b[0;34m\u001b[0m\u001b[0;34m\u001b[0m\u001b[0m\n\u001b[0m\u001b[1;32m    856\u001b[0m     \u001b[0;32melif\u001b[0m \u001b[0mself\u001b[0m\u001b[0;34m.\u001b[0m\u001b[0m_stateful_fn\u001b[0m \u001b[0;32mis\u001b[0m \u001b[0;32mnot\u001b[0m \u001b[0;32mNone\u001b[0m\u001b[0;34m:\u001b[0m\u001b[0;34m\u001b[0m\u001b[0;34m\u001b[0m\u001b[0m\n\u001b[1;32m    857\u001b[0m       \u001b[0;31m# Release the lock early so that multiple threads can perform the call\u001b[0m\u001b[0;34m\u001b[0m\u001b[0;34m\u001b[0m\u001b[0;34m\u001b[0m\u001b[0m\n",
            "\u001b[0;32m/usr/local/lib/python3.8/dist-packages/tensorflow/python/eager/function.py\u001b[0m in \u001b[0;36m__call__\u001b[0;34m(self, *args, **kwargs)\u001b[0m\n\u001b[1;32m   2940\u001b[0m       (graph_function,\n\u001b[1;32m   2941\u001b[0m        filtered_flat_args) = self._maybe_define_function(args, kwargs)\n\u001b[0;32m-> 2942\u001b[0;31m     return graph_function._call_flat(\n\u001b[0m\u001b[1;32m   2943\u001b[0m         filtered_flat_args, captured_inputs=graph_function.captured_inputs)  # pylint: disable=protected-access\n\u001b[1;32m   2944\u001b[0m \u001b[0;34m\u001b[0m\u001b[0m\n",
            "\u001b[0;32m/usr/local/lib/python3.8/dist-packages/tensorflow/python/eager/function.py\u001b[0m in \u001b[0;36m_call_flat\u001b[0;34m(self, args, captured_inputs, cancellation_manager)\u001b[0m\n\u001b[1;32m   1916\u001b[0m         and executing_eagerly):\n\u001b[1;32m   1917\u001b[0m       \u001b[0;31m# No tape is watching; skip to running the function.\u001b[0m\u001b[0;34m\u001b[0m\u001b[0;34m\u001b[0m\u001b[0;34m\u001b[0m\u001b[0m\n\u001b[0;32m-> 1918\u001b[0;31m       return self._build_call_outputs(self._inference_function.call(\n\u001b[0m\u001b[1;32m   1919\u001b[0m           ctx, args, cancellation_manager=cancellation_manager))\n\u001b[1;32m   1920\u001b[0m     forward_backward = self._select_forward_and_backward_functions(\n",
            "\u001b[0;32m/usr/local/lib/python3.8/dist-packages/tensorflow/python/eager/function.py\u001b[0m in \u001b[0;36mcall\u001b[0;34m(self, ctx, args, cancellation_manager)\u001b[0m\n\u001b[1;32m    553\u001b[0m       \u001b[0;32mwith\u001b[0m \u001b[0m_InterpolateFunctionError\u001b[0m\u001b[0;34m(\u001b[0m\u001b[0mself\u001b[0m\u001b[0;34m)\u001b[0m\u001b[0;34m:\u001b[0m\u001b[0;34m\u001b[0m\u001b[0;34m\u001b[0m\u001b[0m\n\u001b[1;32m    554\u001b[0m         \u001b[0;32mif\u001b[0m \u001b[0mcancellation_manager\u001b[0m \u001b[0;32mis\u001b[0m \u001b[0;32mNone\u001b[0m\u001b[0;34m:\u001b[0m\u001b[0;34m\u001b[0m\u001b[0;34m\u001b[0m\u001b[0m\n\u001b[0;32m--> 555\u001b[0;31m           outputs = execute.execute(\n\u001b[0m\u001b[1;32m    556\u001b[0m               \u001b[0mstr\u001b[0m\u001b[0;34m(\u001b[0m\u001b[0mself\u001b[0m\u001b[0;34m.\u001b[0m\u001b[0msignature\u001b[0m\u001b[0;34m.\u001b[0m\u001b[0mname\u001b[0m\u001b[0;34m)\u001b[0m\u001b[0;34m,\u001b[0m\u001b[0;34m\u001b[0m\u001b[0;34m\u001b[0m\u001b[0m\n\u001b[1;32m    557\u001b[0m               \u001b[0mnum_outputs\u001b[0m\u001b[0;34m=\u001b[0m\u001b[0mself\u001b[0m\u001b[0;34m.\u001b[0m\u001b[0m_num_outputs\u001b[0m\u001b[0;34m,\u001b[0m\u001b[0;34m\u001b[0m\u001b[0;34m\u001b[0m\u001b[0m\n",
            "\u001b[0;32m/usr/local/lib/python3.8/dist-packages/tensorflow/python/eager/execute.py\u001b[0m in \u001b[0;36mquick_execute\u001b[0;34m(op_name, num_outputs, inputs, attrs, ctx, name)\u001b[0m\n\u001b[1;32m     57\u001b[0m   \u001b[0;32mtry\u001b[0m\u001b[0;34m:\u001b[0m\u001b[0;34m\u001b[0m\u001b[0;34m\u001b[0m\u001b[0m\n\u001b[1;32m     58\u001b[0m     \u001b[0mctx\u001b[0m\u001b[0;34m.\u001b[0m\u001b[0mensure_initialized\u001b[0m\u001b[0;34m(\u001b[0m\u001b[0;34m)\u001b[0m\u001b[0;34m\u001b[0m\u001b[0;34m\u001b[0m\u001b[0m\n\u001b[0;32m---> 59\u001b[0;31m     tensors = pywrap_tfe.TFE_Py_Execute(ctx._handle, device_name, op_name,\n\u001b[0m\u001b[1;32m     60\u001b[0m                                         inputs, attrs, num_outputs)\n\u001b[1;32m     61\u001b[0m   \u001b[0;32mexcept\u001b[0m \u001b[0mcore\u001b[0m\u001b[0;34m.\u001b[0m\u001b[0m_NotOkStatusException\u001b[0m \u001b[0;32mas\u001b[0m \u001b[0me\u001b[0m\u001b[0;34m:\u001b[0m\u001b[0;34m\u001b[0m\u001b[0;34m\u001b[0m\u001b[0m\n",
            "\u001b[0;31mKeyboardInterrupt\u001b[0m: "
          ]
        }
      ],
      "source": [
        "train(train_dataset, 100, noise_dim)"
      ]
    },
    {
      "cell_type": "code",
      "execution_count": null,
      "metadata": {
        "id": "mt08T3oUvue7"
      },
      "outputs": [],
      "source": [
        "# %reload_ext tensorboard\n",
        "# %tensorboard --logdir logs/gradient_tape\n",
        "\n",
        "fig, axes = plt.subplots(2, figsize=(12, 8))\n",
        "fig.suptitle('Training Metrics')\n",
        "\n",
        "axes[0].set_ylabel(\"Losses\", fontsize=14)\n",
        "axes[0].set_xlabel(\"Epoch\", fontsize=14)\n",
        "axes[0].plot(disc_losses_list, color='red')\n",
        "axes[0].plot(gen_losses_list, color='blue')\n",
        "\n",
        "axes[1].set_ylabel(\"Accuracy\", fontsize=14)\n",
        "axes[1].set_xlabel(\"Epoch\", fontsize=14)\n",
        "axes[1].plot(fake_disc_accuracy_list, color='red', label = 'fake')\n",
        "axes[1].plot(real_disc_accuracy_list, color='blue')\n",
        "plt.legend()\n",
        "plt.show()"
      ]
    },
    {
      "cell_type": "markdown",
      "source": [
        "# New Section"
      ],
      "metadata": {
        "id": "5ZUX9d2tSfbW"
      }
    },
    {
      "cell_type": "code",
      "execution_count": null,
      "metadata": {
        "id": "Mk_e-Ke8Fbm_"
      },
      "outputs": [],
      "source": [
        "mat = scipy.io.loadmat(r\"/content/drive/MyDrive/Colab Notebooks/ecgGAN/interp_data_norm.mat\")\n",
        "\n",
        "data = mat['interp_data'] \n",
        "data = np.reshape(data, (data.shape[0],1,data.shape[1]))\n",
        "\n",
        "\n",
        "#data = np.load('./data/fix_signals_400.npy')\n",
        "#data = np.reshape(data, (data.shape[0], 1, data.shape[1]))\n",
        "print('Data shape:', data.shape)\n",
        "\n",
        "\n",
        "data = data #/ norm_value # Normalize\n",
        "data = np.array(data, dtype='float32')\n",
        "\n",
        "for i in range(20):\n",
        "  seed = tf.random.normal(noise_dim)\n",
        "  ecg = generator(seed, training=False)\n",
        "  answer = discriminator(ecg)\n",
        "  fig, (ax1, ax2) = plt.subplots(1,2)\n",
        "  ax1.plot(ecg[0, 0, :] * norm_value)\n",
        "  ax2.plot(data[i][0])\n",
        "  plt.show()\n",
        "  print(answer[0])"
      ]
    },
    {
      "cell_type": "code",
      "execution_count": null,
      "metadata": {
        "id": "K-xX3W_-dwN0"
      },
      "outputs": [],
      "source": [
        "generator.save('/drive/My Drive/Colab Notebooks/saved_models/generator_80e.h5')\n",
        "discriminator.save('/drive/My Drive/Colab Notebooks/saved_models/discriminator_80e.h5')"
      ]
    },
    {
      "cell_type": "code",
      "execution_count": null,
      "metadata": {
        "id": "3E3dDE7JMvm2",
        "colab": {
          "base_uri": "https://localhost:8080/"
        },
        "outputId": "4d3d3bd5-7921-4f06-e339-dced69871ff1"
      },
      "outputs": [
        {
          "output_type": "stream",
          "name": "stderr",
          "text": [
            "WARNING:tensorflow:No training configuration found in the save file, so the model was *not* compiled. Compile it manually.\n"
          ]
        }
      ],
      "source": [
        "model = tf.keras.models.load_model('/content/drive/MyDrive/Colab Notebooks/ecgGAN/generator_80e.h5')\n"
      ]
    },
    {
      "cell_type": "code",
      "source": [
        "converter = tf.lite.TFLiteConverter.from_keras_model(model)\n",
        "converter.optimizations = [tf.lite.Optimize.DEFAULT]\n",
        "model_no_quant_tflite = converter.convert()\n",
        "\n",
        "# Save the model to disk\n",
        "open(MODEL_TFLITE, \"wb\").write(model_no_quant_tflite)\n",
        "\n"
      ],
      "metadata": {
        "id": "Qyw9GkjzeQC8"
      },
      "execution_count": null,
      "outputs": []
    },
    {
      "cell_type": "code",
      "source": [
        "def get_file_size(file_path):\n",
        "    size = os.path.getsize(file_path)\n",
        "    return size\n",
        "def convert_bytes(size, unit=None):\n",
        "    if unit == \"KB\":\n",
        "        return print('File size: ' + str(round(size / 1024, 3)) + ' Kilobytes')\n",
        "    elif unit == \"MB\":\n",
        "        return print('File size: ' + str(round(size / (1024 * 1024), 3)) + ' Megabytes')\n",
        "    else:\n",
        "        return print('File size: ' + str(size) + ' bytes')\n",
        "convert_bytes(get_file_size('/content/models/model_no_quant.tflite'), \"KB\")\n",
        "convert_bytes(get_file_size('/content/drive/MyDrive/Colab Notebooks/ecgGAN/generator_80e.h5'), \"KB\")"
      ],
      "metadata": {
        "id": "-mzn2NDjO6j0"
      },
      "execution_count": null,
      "outputs": []
    },
    {
      "cell_type": "code",
      "metadata": {
        "id": "IJXJuGLFGfjB"
      },
      "source": [
        "interpreter = tf.lite.Interpreter(model_path = MODEL_NO_QUANT_TFLITE)\n",
        "input_details = interpreter.get_input_details()\n",
        "output_details = interpreter.get_output_details()\n",
        "print(\"Input Shape:\", input_details[0]['shape'])\n",
        "print(\"Input Type:\", input_details[0]['dtype'])\n",
        "print(\"Output Shape:\", output_details[0]['shape'])\n",
        "print(\"Output Type:\", output_details[0]['dtype'])"
      ],
      "execution_count": null,
      "outputs": []
    },
    {
      "cell_type": "code",
      "execution_count": null,
      "metadata": {
        "id": "4ASzOhS9R5on"
      },
      "outputs": [],
      "source": [
        "#if you want to save the TF Lite model use below steps or else skip\n",
        "tflite_model_files = pathlib.Path('/tmp/pretrainedmodel.tflite')\n",
        "tflite_model_files.write_bytes(MODEL_TFLITE)\n",
        "# Load TFLite model using interpreter and allocate tensors.\n",
        "interpreter = tf.lite.Interpreter(model_content=MODEL_TFLITE)\n",
        "interpreter.allocate_tensors()"
      ]
    },
    {
      "cell_type": "code",
      "source": [
        "\n",
        "\n",
        "# Function: Convert some hex value into an array for C programming\n",
        "def hex_to_c_array(hex_data, var_name):\n",
        "\n",
        "  c_str = ''\n",
        "\n",
        "  # Create header guard\n",
        "  c_str += '#ifndef ' + var_name.upper() + '_H\\n'\n",
        "  c_str += '#define ' + var_name.upper() + '_H\\n\\n'\n",
        "\n",
        "  # Add array length at top of file\n",
        "  c_str += '\\nunsigned int ' + var_name + '_len = ' + str(len(hex_data)) + ';\\n'\n",
        "\n",
        "  # Declare C variable\n",
        "  c_str += 'unsigned char ' + var_name + '[] = {'\n",
        "  hex_array = []\n",
        "  for i, val in enumerate(hex_data) :\n",
        "\n",
        "    # Construct string from hex\n",
        "    hex_str = format(val, '#04x')\n",
        "\n",
        "    # Add formatting so each line stays within 80 characters\n",
        "    if (i + 1) < len(hex_data):\n",
        "      hex_str += ','\n",
        "    if (i + 1) % 12 == 0:\n",
        "      hex_str += '\\n '\n",
        "    hex_array.append(hex_str)\n",
        "\n",
        "  # Add closing brace\n",
        "  c_str += '\\n ' + format(' '.join(hex_array)) + '\\n};\\n\\n'\n",
        "\n",
        "  # Close out header guard\n",
        "  c_str += '#endif //' + var_name.upper() + '_H'\n",
        "\n",
        "  return c_str\n",
        "\n"
      ],
      "metadata": {
        "id": "Nkt47C_CPpjV"
      },
      "execution_count": null,
      "outputs": []
    },
    {
      "cell_type": "code",
      "source": [
        "\n",
        "\n",
        "# Write TFLite model to a C source (or header) file\n",
        "with open( 'ecg_model.h', 'w') as file:\n",
        "  file.write(hex_to_c_array(MODEL_TFLITE, 'ecg_model.h'))\n",
        "\n"
      ],
      "metadata": {
        "id": "chqc_1JGPqMe"
      },
      "execution_count": null,
      "outputs": []
    },
    {
      "cell_type": "code",
      "execution_count": null,
      "metadata": {
        "id": "5aIoDPI5SI5-"
      },
      "outputs": [],
      "source": [
        "seed = tf.random.normal([1, 100, 1])\n",
        "ecg = model(seed, training=False)\n",
        "fig = plt.figure(figsize=(4,3))\n",
        "plt.plot(ecg[0, 0, :] * norm_value)\n",
        "plt.show()"
      ]
    },
    {
      "cell_type": "code",
      "execution_count": null,
      "metadata": {
        "id": "rm9jiDCyaQYP"
      },
      "outputs": [],
      "source": [
        "model = tf.keras.models.load_model('/content/drive/MyDrive/Colab Notebooks/ecgGAN/_old.h5')\n",
        "testing(test_dataset, model, [57, 100, 12])"
      ]
    },
    {
      "cell_type": "code",
      "execution_count": null,
      "metadata": {
        "id": "m6HwS7tGPKFQ"
      },
      "outputs": [],
      "source": [
        "\n",
        "# Install xxd if it is not available\n",
        "!apt-get update && apt-get -qq install xxd\n",
        "# Convert to a C source file, i.e, a TensorFlow Lite for Microcontrollers model\n",
        "!xxd -i {MODEL_TFLITE} > {MODEL_TFLITE_MICRO}\n",
        "# Update variable names\n",
        "REPLACE_TEXT = MODEL_TFLITE.replace('/', '_').replace('.', '_')\n",
        "!sed -i 's/'{REPLACE_TEXT}'/g_model/g' {MODEL_TFLITE_MICRO}\n",
        "     "
      ]
    },
    {
      "cell_type": "code",
      "source": [],
      "metadata": {
        "id": "LKlg0Fwlk6dU"
      },
      "execution_count": null,
      "outputs": []
    }
  ],
  "metadata": {
    "accelerator": "GPU",
    "colab": {
      "provenance": []
    },
    "kernelspec": {
      "display_name": "Python 3",
      "language": "python",
      "name": "python3"
    },
    "language_info": {
      "codemirror_mode": {
        "name": "ipython",
        "version": 3
      },
      "file_extension": ".py",
      "mimetype": "text/x-python",
      "name": "python",
      "nbconvert_exporter": "python",
      "pygments_lexer": "ipython3",
      "version": "3.7.6"
    }
  },
  "nbformat": 4,
  "nbformat_minor": 0
}